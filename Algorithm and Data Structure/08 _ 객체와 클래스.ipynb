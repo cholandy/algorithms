{
 "cells": [
  {
   "cell_type": "code",
   "execution_count": 1,
   "metadata": {},
   "outputs": [],
   "source": [
    "class Bicycle():\n",
    "    pass"
   ]
  },
  {
   "cell_type": "code",
   "execution_count": 2,
   "metadata": {},
   "outputs": [],
   "source": [
    "my_bicycle = Bicycle()"
   ]
  },
  {
   "cell_type": "code",
   "execution_count": 3,
   "metadata": {},
   "outputs": [
    {
     "data": {
      "text/plain": [
       "<__main__.Bicycle at 0x1c2c3ccf4a8>"
      ]
     },
     "execution_count": 3,
     "metadata": {},
     "output_type": "execute_result"
    }
   ],
   "source": [
    "my_bicycle"
   ]
  },
  {
   "cell_type": "code",
   "execution_count": 4,
   "metadata": {},
   "outputs": [
    {
     "name": "stdout",
     "output_type": "stream",
     "text": [
      "astroid==2.1.0\n",
      "attrs==19.1.0\n",
      "backcall==0.1.0\n",
      "bleach==3.1.0\n",
      "colorama==0.4.1\n",
      "decorator==4.4.0\n",
      "defusedxml==0.6.0\n",
      "entrypoints==0.3\n",
      "ipykernel==5.1.0\n",
      "ipython==7.5.0\n",
      "ipython-genutils==0.2.0\n",
      "ipywidgets==7.4.2\n",
      "isort==4.3.4\n",
      "jedi==0.13.3\n",
      "Jinja2==2.10.1\n",
      "jsonschema==3.0.1\n",
      "jupyter-client==5.2.4\n",
      "jupyter-core==4.4.0\n",
      "lazy-object-proxy==1.3.1\n",
      "MarkupSafe==1.1.1\n",
      "mccabe==0.6.1\n",
      "mistune==0.8.4\n",
      "nbconvert==5.5.0\n",
      "nbformat==4.4.0\n",
      "notebook==5.7.8\n",
      "pandocfilters==1.4.2\n",
      "parso==0.4.0\n",
      "pickleshare==0.7.5\n",
      "prometheus-client==0.6.0\n",
      "prompt-toolkit==2.0.9\n",
      "Pygments==2.3.1\n",
      "pylint==2.2.2\n",
      "pyrsistent==0.15.1\n",
      "python-dateutil==2.8.0\n",
      "pywinpty==0.5.5\n",
      "pyzmq==18.0.1\n",
      "Send2Trash==1.5.0\n",
      "six==1.12.0\n",
      "terminado==0.8.2\n",
      "testpath==0.4.2\n",
      "tornado==6.0.2\n",
      "traitlets==4.3.2\n",
      "wcwidth==0.1.7\n",
      "webencodings==0.5.1\n",
      "widgetsnbextension==3.4.2\n",
      "wrapt==1.10.11\n",
      "Note: you may need to restart the kernel to use updated packages.\n"
     ]
    }
   ],
   "source": [
    "pip freeze"
   ]
  },
  {
   "cell_type": "code",
   "execution_count": 5,
   "metadata": {},
   "outputs": [],
   "source": [
    "my_bicycle.wheel_size = 26\n",
    "my_bicycle.color = 'black'"
   ]
  },
  {
   "cell_type": "code",
   "execution_count": 15,
   "metadata": {},
   "outputs": [],
   "source": [
    "class Bicycle():\n",
    "    def __init__(self, wheel_size, color):\n",
    "        self.wheel_size = wheel_size\n",
    "        self.color = color\n",
    "    \n",
    "    def move(self, speed):\n",
    "        print(\"자전거: 시속 {0}킬로미터로 전진\".format(speed))\n",
    "        \n",
    "    def turn(self, direction):\n",
    "        print(\"자전거: {0}회전\".format(direction))\n",
    "    \n",
    "    def stop(self):\n",
    "        print(\"자전거 {0}, {1}: 정지\".format(self.wheel_size, self.color))"
   ]
  },
  {
   "cell_type": "code",
   "execution_count": 17,
   "metadata": {},
   "outputs": [
    {
     "name": "stdout",
     "output_type": "stream",
     "text": [
      "자전거: 시속 30킬로미터로 전진\n",
      "자전거: 좌회전\n",
      "자전거 30, red: 정지\n"
     ]
    }
   ],
   "source": [
    "my_bicycle = Bicycle(30, 'red')\n",
    "\n",
    "my_bicycle.move(30)\n",
    "my_bicycle.turn('좌')\n",
    "my_bicycle.stop()"
   ]
  },
  {
   "cell_type": "code",
   "execution_count": 18,
   "metadata": {},
   "outputs": [],
   "source": [
    "class Car():\n",
    "    instance_count = 0\n",
    "    \n",
    "    def __init__(self, size, color):\n",
    "        self.size = size\n",
    "        self.color = color\n",
    "        Car.instance_count +=1\n",
    "        print(f\"자동차 객체의 수: {Car.instance_count}\")\n",
    "        \n",
    "    def move(self):\n",
    "        print(f\"자동차 {self.size} {self.color}가 움직입니다.\")"
   ]
  },
  {
   "cell_type": "code",
   "execution_count": 19,
   "metadata": {},
   "outputs": [
    {
     "name": "stdout",
     "output_type": "stream",
     "text": [
      "자동차 객체의 수: 1\n",
      "자동차 객체의 수: 2\n"
     ]
    }
   ],
   "source": [
    "car1 = Car('samll', 'white')\n",
    "car2 = Car('big', 'black')"
   ]
  },
  {
   "cell_type": "code",
   "execution_count": 20,
   "metadata": {},
   "outputs": [
    {
     "data": {
      "text/plain": [
       "2"
      ]
     },
     "execution_count": 20,
     "metadata": {},
     "output_type": "execute_result"
    }
   ],
   "source": [
    "car1.instance_count"
   ]
  },
  {
   "cell_type": "code",
   "execution_count": 21,
   "metadata": {},
   "outputs": [
    {
     "data": {
      "text/plain": [
       "2"
      ]
     },
     "execution_count": 21,
     "metadata": {},
     "output_type": "execute_result"
    }
   ],
   "source": [
    "car2.instance_count"
   ]
  },
  {
   "cell_type": "code",
   "execution_count": 22,
   "metadata": {},
   "outputs": [
    {
     "name": "stdout",
     "output_type": "stream",
     "text": [
      "자동차 samll white가 움직입니다.\n",
      "자동차 big black가 움직입니다.\n"
     ]
    }
   ],
   "source": [
    "car1.move()\n",
    "car2.move()"
   ]
  },
  {
   "cell_type": "code",
   "execution_count": 5,
   "metadata": {},
   "outputs": [],
   "source": [
    "class Car():\n",
    "    instance_count = 0\n",
    "    \n",
    "    def __init__(self, size, color):\n",
    "        self.size = size\n",
    "        self.color = color\n",
    "        Car.instance_count += 1\n",
    "        print(f\"자동차 객체의 수: {Car.instance_count}\")\n",
    "        \n",
    "    def move(self, speed):\n",
    "        self.speed = speed\n",
    "        print(f'자동차({self.size} & {self.color})가 ', end='')\n",
    "        print(f'시속 {self.speed}킬로미터로 전진')\n",
    "        \n",
    "    def auto_cruise(self):\n",
    "        print(\"자율 주행 모드\")\n",
    "        self.move(self.speed)\n",
    "        "
   ]
  },
  {
   "cell_type": "code",
   "execution_count": 6,
   "metadata": {},
   "outputs": [
    {
     "name": "stdout",
     "output_type": "stream",
     "text": [
      "자동차 객체의 수: 1\n",
      "자동차 객체의 수: 2\n",
      "자동차(Small & red)가 시속 80킬로미터로 전진\n",
      "자동차(big & green)가 시속 100킬로미터로 전진\n",
      "자율 주행 모드\n",
      "자동차(Small & red)가 시속 80킬로미터로 전진\n",
      "자율 주행 모드\n",
      "자동차(big & green)가 시속 100킬로미터로 전진\n"
     ]
    }
   ],
   "source": [
    "car1 = Car('Small', 'red')\n",
    "car2 = Car('big', 'green')\n",
    "\n",
    "car1.move(80)\n",
    "car2.move(100)\n",
    "car1.auto_cruise()\n",
    "car2.auto_cruise()"
   ]
  },
  {
   "cell_type": "code",
   "execution_count": 7,
   "metadata": {},
   "outputs": [
    {
     "data": {
      "text/plain": [
       "80"
      ]
     },
     "execution_count": 7,
     "metadata": {},
     "output_type": "execute_result"
    }
   ],
   "source": [
    "car1.speed"
   ]
  },
  {
   "cell_type": "code",
   "execution_count": null,
   "metadata": {},
   "outputs": [],
   "source": []
  }
 ],
 "metadata": {
  "kernelspec": {
   "display_name": "Python 3",
   "language": "python",
   "name": "python3"
  },
  "language_info": {
   "codemirror_mode": {
    "name": "ipython",
    "version": 3
   },
   "file_extension": ".py",
   "mimetype": "text/x-python",
   "name": "python",
   "nbconvert_exporter": "python",
   "pygments_lexer": "ipython3",
   "version": "3.7.3"
  }
 },
 "nbformat": 4,
 "nbformat_minor": 2
}
